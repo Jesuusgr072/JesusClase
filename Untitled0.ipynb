{
  "nbformat": 4,
  "nbformat_minor": 0,
  "metadata": {
    "colab": {
      "provenance": [],
      "authorship_tag": "ABX9TyPudJXsJWoz1kqCq4U5Vnbv",
      "include_colab_link": true
    },
    "kernelspec": {
      "name": "python3",
      "display_name": "Python 3"
    },
    "language_info": {
      "name": "python"
    }
  },
  "cells": [
    {
      "cell_type": "markdown",
      "metadata": {
        "id": "view-in-github",
        "colab_type": "text"
      },
      "source": [
        "<a href=\"https://colab.research.google.com/github/Jesuusgr072/JesusClase/blob/main/Untitled0.ipynb\" target=\"_parent\"><img src=\"https://colab.research.google.com/assets/colab-badge.svg\" alt=\"Open In Colab\"/></a>"
      ]
    },
    {
      "cell_type": "markdown",
      "source": [
        "# 1) Descargar la base de datos\n",
        "\n"
      ],
      "metadata": {
        "id": "Isdj_NS17F3n"
      }
    },
    {
      "cell_type": "code",
      "execution_count": 10,
      "metadata": {
        "colab": {
          "base_uri": "https://localhost:8080/"
        },
        "id": "fsut7uRV54Id",
        "outputId": "bb2bd128-066e-4f34-9d62-a69ecdc3fcb6"
      },
      "outputs": [
        {
          "output_type": "stream",
          "name": "stdout",
          "text": [
            "Downloading...\n",
            "From: https://drive.google.com/uc?id=1puf9UBuzaVqMW3ZMMXhd626E5yVJd_QX\n",
            "To: /content/data_berka.db\n",
            "100% 70.2M/70.2M [00:00<00:00, 127MB/s]\n"
          ]
        }
      ],
      "source": [
        "!gdown 1puf9UBuzaVqMW3ZMMXhd626E5yVJd_QX"
      ]
    },
    {
      "cell_type": "markdown",
      "source": [
        "# 1.1) Cargamos la extension SQL (nos permite ejecutar comandos sql directamente en colab)"
      ],
      "metadata": {
        "id": "T784lDFD8EbC"
      }
    },
    {
      "cell_type": "code",
      "source": [
        "%config SqlMagic.style = '_DEPRECATED_DEFAULT'\n",
        "%load_ext sql"
      ],
      "metadata": {
        "id": "rf8HGFrI8QS3"
      },
      "execution_count": 11,
      "outputs": []
    },
    {
      "cell_type": "markdown",
      "source": [
        "# 1.2) Conectar a la Base de Datos"
      ],
      "metadata": {
        "id": "iHzJDqAs8YCH"
      }
    },
    {
      "cell_type": "code",
      "source": [
        "%sql sqlite:///data_berka.db"
      ],
      "metadata": {
        "id": "gqmnb6RP8jcf"
      },
      "execution_count": 12,
      "outputs": []
    },
    {
      "cell_type": "markdown",
      "source": [
        "# 1.3) Comprobamos el esque de la BBDD para ejecutar comandos sql, se debe añadir \"%%sql comando\" o en multiples lineas \"%%sql comando_linea1, comando_linea2\""
      ],
      "metadata": {
        "id": "4_vilkgG85s_"
      }
    },
    {
      "cell_type": "code",
      "source": [
        "%%sql\n",
        "SELECT name, type\n",
        "FROM sqlite_master\n",
        "WHERE type = \"table\""
      ],
      "metadata": {
        "colab": {
          "base_uri": "https://localhost:8080/",
          "height": 246
        },
        "id": "NEGWK09Y86wn",
        "outputId": "c7580c76-123f-4212-c6e8-2e8eefc6b113"
      },
      "execution_count": 13,
      "outputs": [
        {
          "output_type": "stream",
          "name": "stdout",
          "text": [
            " * sqlite:///data_berka.db\n",
            "Done.\n"
          ]
        },
        {
          "output_type": "execute_result",
          "data": {
            "text/plain": [
              "[('DISTRICT', 'table'),\n",
              " ('ACCOUNT', 'table'),\n",
              " ('TRANS', 'table'),\n",
              " ('CLIENT', 'table'),\n",
              " ('DISPOSITION', 'table'),\n",
              " ('CREDIT_CARD', 'table'),\n",
              " ('LOAN', 'table'),\n",
              " ('PERMANENT_ORDER', 'table')]"
            ],
            "text/html": [
              "<table>\n",
              "    <thead>\n",
              "        <tr>\n",
              "            <th>name</th>\n",
              "            <th>type</th>\n",
              "        </tr>\n",
              "    </thead>\n",
              "    <tbody>\n",
              "        <tr>\n",
              "            <td>DISTRICT</td>\n",
              "            <td>table</td>\n",
              "        </tr>\n",
              "        <tr>\n",
              "            <td>ACCOUNT</td>\n",
              "            <td>table</td>\n",
              "        </tr>\n",
              "        <tr>\n",
              "            <td>TRANS</td>\n",
              "            <td>table</td>\n",
              "        </tr>\n",
              "        <tr>\n",
              "            <td>CLIENT</td>\n",
              "            <td>table</td>\n",
              "        </tr>\n",
              "        <tr>\n",
              "            <td>DISPOSITION</td>\n",
              "            <td>table</td>\n",
              "        </tr>\n",
              "        <tr>\n",
              "            <td>CREDIT_CARD</td>\n",
              "            <td>table</td>\n",
              "        </tr>\n",
              "        <tr>\n",
              "            <td>LOAN</td>\n",
              "            <td>table</td>\n",
              "        </tr>\n",
              "        <tr>\n",
              "            <td>PERMANENT_ORDER</td>\n",
              "            <td>table</td>\n",
              "        </tr>\n",
              "    </tbody>\n",
              "</table>"
            ]
          },
          "metadata": {},
          "execution_count": 13
        }
      ]
    },
    {
      "cell_type": "markdown",
      "source": [
        "# 2) Ejercicios"
      ],
      "metadata": {
        "id": "w1dQpIpYArJJ"
      }
    },
    {
      "cell_type": "markdown",
      "source": [
        "2.1) Muestre los datos de la tabla cliente"
      ],
      "metadata": {
        "id": "gyjcrhslA1dP"
      }
    },
    {
      "cell_type": "code",
      "source": [
        "%%sql\n",
        "SELECT *\n",
        "FROM CLIENT\n",
        "LIMIT 5;"
      ],
      "metadata": {
        "colab": {
          "base_uri": "https://localhost:8080/",
          "height": 182
        },
        "id": "aUB5qC-bA8DX",
        "outputId": "4789c4a4-7ced-4fe6-e9a3-4956e328e618"
      },
      "execution_count": 14,
      "outputs": [
        {
          "output_type": "stream",
          "name": "stdout",
          "text": [
            " * sqlite:///data_berka.db\n",
            "Done.\n"
          ]
        },
        {
          "output_type": "execute_result",
          "data": {
            "text/plain": [
              "[(1, '706213', 18),\n",
              " (2, '450204', 1),\n",
              " (3, '406009', 1),\n",
              " (4, '561201', 5),\n",
              " (5, '605703', 5)]"
            ],
            "text/html": [
              "<table>\n",
              "    <thead>\n",
              "        <tr>\n",
              "            <th>client_id</th>\n",
              "            <th>birth_number</th>\n",
              "            <th>district_id</th>\n",
              "        </tr>\n",
              "    </thead>\n",
              "    <tbody>\n",
              "        <tr>\n",
              "            <td>1</td>\n",
              "            <td>706213</td>\n",
              "            <td>18</td>\n",
              "        </tr>\n",
              "        <tr>\n",
              "            <td>2</td>\n",
              "            <td>450204</td>\n",
              "            <td>1</td>\n",
              "        </tr>\n",
              "        <tr>\n",
              "            <td>3</td>\n",
              "            <td>406009</td>\n",
              "            <td>1</td>\n",
              "        </tr>\n",
              "        <tr>\n",
              "            <td>4</td>\n",
              "            <td>561201</td>\n",
              "            <td>5</td>\n",
              "        </tr>\n",
              "        <tr>\n",
              "            <td>5</td>\n",
              "            <td>605703</td>\n",
              "            <td>5</td>\n",
              "        </tr>\n",
              "    </tbody>\n",
              "</table>"
            ]
          },
          "metadata": {},
          "execution_count": 14
        }
      ]
    },
    {
      "cell_type": "markdown",
      "source": [
        "2.2) Liste todos los clientes con cuentas activas y prestamos, incluyendo dinero prestado y saldos de cuenta"
      ],
      "metadata": {
        "id": "xJGRoUcXBMNY"
      }
    },
    {
      "cell_type": "code",
      "source": [
        "%%sql\n",
        "SELECT\n",
        "  c.client_id AS Cliente,\n",
        "  ROUND(SUM(l.amount), 2) AS Importe_prestado,\n",
        "  ROUND(SUM(CASE\n",
        "    WHEN t.type = 'PRIJEM' THEN t.amount\n",
        "    WHEN t.type = 'VYDAJ' THEN -t.amount\n",
        "    ELSE 0\n",
        "  END), 2) AS Balance_cuenta\n",
        "FROM CLIENT c\n",
        "LEFT JOIN DISPOSITION d ON d.client_id = c.client_id\n",
        "LEFT JOIN ACCOUNT a ON a.account_id = d.account_id\n",
        "LEFT JOIN LOAN l ON l.account_id = a.account_id\n",
        "LEFT JOIN TRANS t ON t.account_id = a.account_id\n",
        "WHERE d.type = 'OWNER'\n",
        "GROUP BY c.client_id\n",
        "LIMIT 10;"
      ],
      "metadata": {
        "colab": {
          "base_uri": "https://localhost:8080/",
          "height": 289
        },
        "id": "8NJgFkuNDhlf",
        "outputId": "37520c31-87bb-41a3-8087-4bc28ca4bec3"
      },
      "execution_count": 15,
      "outputs": [
        {
          "output_type": "stream",
          "name": "stdout",
          "text": [
            " * sqlite:///data_berka.db\n",
            "Done.\n"
          ]
        },
        {
          "output_type": "execute_result",
          "data": {
            "text/plain": [
              "[(1, None, 13466.5),\n",
              " (2, 38695056.0, 260069.7),\n",
              " (4, None, 51096.2),\n",
              " (6, None, 33720.6),\n",
              " (7, None, 28088.6),\n",
              " (8, None, 47667.9),\n",
              " (9, None, 68495.9),\n",
              " (10, None, 72617.3),\n",
              " (12, None, 23877.7),\n",
              " (13, None, 59295.5)]"
            ],
            "text/html": [
              "<table>\n",
              "    <thead>\n",
              "        <tr>\n",
              "            <th>Cliente</th>\n",
              "            <th>Importe_prestado</th>\n",
              "            <th>Balance_cuenta</th>\n",
              "        </tr>\n",
              "    </thead>\n",
              "    <tbody>\n",
              "        <tr>\n",
              "            <td>1</td>\n",
              "            <td>None</td>\n",
              "            <td>13466.5</td>\n",
              "        </tr>\n",
              "        <tr>\n",
              "            <td>2</td>\n",
              "            <td>38695056.0</td>\n",
              "            <td>260069.7</td>\n",
              "        </tr>\n",
              "        <tr>\n",
              "            <td>4</td>\n",
              "            <td>None</td>\n",
              "            <td>51096.2</td>\n",
              "        </tr>\n",
              "        <tr>\n",
              "            <td>6</td>\n",
              "            <td>None</td>\n",
              "            <td>33720.6</td>\n",
              "        </tr>\n",
              "        <tr>\n",
              "            <td>7</td>\n",
              "            <td>None</td>\n",
              "            <td>28088.6</td>\n",
              "        </tr>\n",
              "        <tr>\n",
              "            <td>8</td>\n",
              "            <td>None</td>\n",
              "            <td>47667.9</td>\n",
              "        </tr>\n",
              "        <tr>\n",
              "            <td>9</td>\n",
              "            <td>None</td>\n",
              "            <td>68495.9</td>\n",
              "        </tr>\n",
              "        <tr>\n",
              "            <td>10</td>\n",
              "            <td>None</td>\n",
              "            <td>72617.3</td>\n",
              "        </tr>\n",
              "        <tr>\n",
              "            <td>12</td>\n",
              "            <td>None</td>\n",
              "            <td>23877.7</td>\n",
              "        </tr>\n",
              "        <tr>\n",
              "            <td>13</td>\n",
              "            <td>None</td>\n",
              "            <td>59295.5</td>\n",
              "        </tr>\n",
              "    </tbody>\n",
              "</table>"
            ]
          },
          "metadata": {},
          "execution_count": 15
        }
      ]
    },
    {
      "cell_type": "markdown",
      "source": [
        "2.3) Identifique clientes con multiples cuentas"
      ],
      "metadata": {
        "id": "HR1AAdH1FxqO"
      }
    },
    {
      "cell_type": "code",
      "source": [
        "%%sql\n",
        "SELECT\n",
        "  c.client_id AS CLIENTES,\n",
        "  COUNT(a.account_id) AS NUM_CUENTAS\n",
        "FROM CLIENT c\n",
        "JOIN DISPOSITION d ON d.client_id = c.client_id\n",
        "JOIN ACCOUNT a ON a.account_id = d.account_id\n",
        "GROUP BY c.client_id\n",
        "HAVING COUNT(a.account_id) > 1 AND d.type = 'OWNER'\n",
        "LIMIT 5;"
      ],
      "metadata": {
        "colab": {
          "base_uri": "https://localhost:8080/",
          "height": 75
        },
        "id": "OmqJNazOF3Xm",
        "outputId": "2449faa9-db13-4c39-9cea-857f61f30439"
      },
      "execution_count": 16,
      "outputs": [
        {
          "output_type": "stream",
          "name": "stdout",
          "text": [
            " * sqlite:///data_berka.db\n",
            "Done.\n"
          ]
        },
        {
          "output_type": "execute_result",
          "data": {
            "text/plain": [
              "[]"
            ],
            "text/html": [
              "<table>\n",
              "    <thead>\n",
              "        <tr>\n",
              "            <th>CLIENTES</th>\n",
              "            <th>NUM_CUENTAS</th>\n",
              "        </tr>\n",
              "    </thead>\n",
              "    <tbody>\n",
              "    </tbody>\n",
              "</table>"
            ]
          },
          "metadata": {},
          "execution_count": 16
        }
      ]
    },
    {
      "cell_type": "markdown",
      "source": [
        "2.4) Recupere transacciones del año 1998, ordenadas por cantidad de transacción, e identifique las 10 transacciones más grandes."
      ],
      "metadata": {
        "id": "FqPW0kNcUDoI"
      }
    },
    {
      "cell_type": "code",
      "source": [
        "%%sql\n",
        "SELECT\n",
        "  trans_id AS Transaccion,\n",
        "  amount AS Cantidad,\n",
        "  date AS Fecha_transaccion\n",
        "FROM TRANS\n",
        "WHERE date LIKE '98%'\n",
        "ORDER BY amount DESC\n",
        "LIMIT 10;"
      ],
      "metadata": {
        "colab": {
          "base_uri": "https://localhost:8080/",
          "height": 289
        },
        "id": "7hziDDJ1UEgu",
        "outputId": "7e2b8655-224f-4ad9-828c-8b4726c62910"
      },
      "execution_count": 29,
      "outputs": [
        {
          "output_type": "stream",
          "name": "stdout",
          "text": [
            " * sqlite:///data_berka.db\n",
            "Done.\n"
          ]
        },
        {
          "output_type": "execute_result",
          "data": {
            "text/plain": [
              "[(291346, 87400.0, 981215),\n",
              " (1306770, 87300.0, 980606),\n",
              " (1207200, 85800.0, 980619),\n",
              " (1170721, 81900.0, 980615),\n",
              " (706371, 80100.0, 980610),\n",
              " (141211, 78300.0, 980625),\n",
              " (1155373, 78000.0, 980618),\n",
              " (623347, 77400.0, 980612),\n",
              " (768915, 77100.0, 980620),\n",
              " (816974, 76800.0, 980621)]"
            ],
            "text/html": [
              "<table>\n",
              "    <thead>\n",
              "        <tr>\n",
              "            <th>Transaccion</th>\n",
              "            <th>Cantidad</th>\n",
              "            <th>Fecha_transaccion</th>\n",
              "        </tr>\n",
              "    </thead>\n",
              "    <tbody>\n",
              "        <tr>\n",
              "            <td>291346</td>\n",
              "            <td>87400.0</td>\n",
              "            <td>981215</td>\n",
              "        </tr>\n",
              "        <tr>\n",
              "            <td>1306770</td>\n",
              "            <td>87300.0</td>\n",
              "            <td>980606</td>\n",
              "        </tr>\n",
              "        <tr>\n",
              "            <td>1207200</td>\n",
              "            <td>85800.0</td>\n",
              "            <td>980619</td>\n",
              "        </tr>\n",
              "        <tr>\n",
              "            <td>1170721</td>\n",
              "            <td>81900.0</td>\n",
              "            <td>980615</td>\n",
              "        </tr>\n",
              "        <tr>\n",
              "            <td>706371</td>\n",
              "            <td>80100.0</td>\n",
              "            <td>980610</td>\n",
              "        </tr>\n",
              "        <tr>\n",
              "            <td>141211</td>\n",
              "            <td>78300.0</td>\n",
              "            <td>980625</td>\n",
              "        </tr>\n",
              "        <tr>\n",
              "            <td>1155373</td>\n",
              "            <td>78000.0</td>\n",
              "            <td>980618</td>\n",
              "        </tr>\n",
              "        <tr>\n",
              "            <td>623347</td>\n",
              "            <td>77400.0</td>\n",
              "            <td>980612</td>\n",
              "        </tr>\n",
              "        <tr>\n",
              "            <td>768915</td>\n",
              "            <td>77100.0</td>\n",
              "            <td>980620</td>\n",
              "        </tr>\n",
              "        <tr>\n",
              "            <td>816974</td>\n",
              "            <td>76800.0</td>\n",
              "            <td>980621</td>\n",
              "        </tr>\n",
              "    </tbody>\n",
              "</table>"
            ]
          },
          "metadata": {},
          "execution_count": 29
        }
      ]
    },
    {
      "cell_type": "markdown",
      "source": [
        "2.5) ¿Cuál es el saldo promedio de cuentas con préstamos en comparación con aquellas sin préstamos?."
      ],
      "metadata": {
        "id": "8QbEzxNhX2qX"
      }
    },
    {
      "cell_type": "code",
      "source": [
        "%%sql\n",
        "SELECT\n",
        "  c.client_id AS Cliente,\n",
        "  l.loan_id AS Prestamo,\n",
        "  l.amount AS Cantidad_Prestada\n",
        "FROM CLIENT c\n",
        "LEFT JOIN DISPOSITION d ON d.client_id = c.client_id\n",
        "LEFT JOIN ACCOUNT a ON a.account_id = d.account_id\n",
        "LEFT JOIN LOAN l ON l.account_id = a.account_id\n",
        "LIMIT 5;"
      ],
      "metadata": {
        "colab": {
          "base_uri": "https://localhost:8080/",
          "height": 182
        },
        "id": "3OILzpn4YUz2",
        "outputId": "6fb3d0e7-0c75-4253-c1c3-5cb9dc0298aa"
      },
      "execution_count": 38,
      "outputs": [
        {
          "output_type": "stream",
          "name": "stdout",
          "text": [
            " * sqlite:///data_berka.db\n",
            "Done.\n"
          ]
        },
        {
          "output_type": "execute_result",
          "data": {
            "text/plain": [
              "[(1, None, None),\n",
              " (2, 4959, 80952),\n",
              " (3, 4959, 80952),\n",
              " (4, None, None),\n",
              " (5, None, None)]"
            ],
            "text/html": [
              "<table>\n",
              "    <thead>\n",
              "        <tr>\n",
              "            <th>Cliente</th>\n",
              "            <th>Prestamo</th>\n",
              "            <th>Cantidad_Prestada</th>\n",
              "        </tr>\n",
              "    </thead>\n",
              "    <tbody>\n",
              "        <tr>\n",
              "            <td>1</td>\n",
              "            <td>None</td>\n",
              "            <td>None</td>\n",
              "        </tr>\n",
              "        <tr>\n",
              "            <td>2</td>\n",
              "            <td>4959</td>\n",
              "            <td>80952</td>\n",
              "        </tr>\n",
              "        <tr>\n",
              "            <td>3</td>\n",
              "            <td>4959</td>\n",
              "            <td>80952</td>\n",
              "        </tr>\n",
              "        <tr>\n",
              "            <td>4</td>\n",
              "            <td>None</td>\n",
              "            <td>None</td>\n",
              "        </tr>\n",
              "        <tr>\n",
              "            <td>5</td>\n",
              "            <td>None</td>\n",
              "            <td>None</td>\n",
              "        </tr>\n",
              "    </tbody>\n",
              "</table>"
            ]
          },
          "metadata": {},
          "execution_count": 38
        }
      ]
    },
    {
      "cell_type": "code",
      "source": [
        "%sql SELECT * FROM LOAN WHERE loan_id = 4959 LIMIT 10;"
      ],
      "metadata": {
        "colab": {
          "base_uri": "https://localhost:8080/",
          "height": 96
        },
        "id": "feDNT9UfbOtY",
        "outputId": "2a60a8c4-e1a6-41ba-9345-6b9f353b3b6e"
      },
      "execution_count": 42,
      "outputs": [
        {
          "output_type": "stream",
          "name": "stdout",
          "text": [
            " * sqlite:///data_berka.db\n",
            "Done.\n"
          ]
        },
        {
          "output_type": "execute_result",
          "data": {
            "text/plain": [
              "[(4959, 2, 940105, 80952, 24, 3373, 'A')]"
            ],
            "text/html": [
              "<table>\n",
              "    <thead>\n",
              "        <tr>\n",
              "            <th>loan_id</th>\n",
              "            <th>account_id</th>\n",
              "            <th>date</th>\n",
              "            <th>amount</th>\n",
              "            <th>duration</th>\n",
              "            <th>payments</th>\n",
              "            <th>status</th>\n",
              "        </tr>\n",
              "    </thead>\n",
              "    <tbody>\n",
              "        <tr>\n",
              "            <td>4959</td>\n",
              "            <td>2</td>\n",
              "            <td>940105</td>\n",
              "            <td>80952</td>\n",
              "            <td>24</td>\n",
              "            <td>3373</td>\n",
              "            <td>A</td>\n",
              "        </tr>\n",
              "    </tbody>\n",
              "</table>"
            ]
          },
          "metadata": {},
          "execution_count": 42
        }
      ]
    },
    {
      "cell_type": "code",
      "metadata": {
        "colab": {
          "base_uri": "https://localhost:8080/",
          "height": 118
        },
        "id": "56865469",
        "outputId": "60518927-edc5-4bff-eca4-439dfba0a24d"
      },
      "source": [
        "%%sql\n",
        "WITH AccountBalances AS (\n",
        "    SELECT\n",
        "        account_id,\n",
        "        SUM(CASE WHEN type = 'PRIJEM' THEN amount ELSE -amount END) AS account_balance\n",
        "    FROM TRANS\n",
        "    GROUP BY account_id\n",
        "),\n",
        "AccountsWithLoans AS (\n",
        "    SELECT DISTINCT account_id\n",
        "    FROM LOAN\n",
        ")\n",
        "SELECT\n",
        "    CASE\n",
        "        WHEN awl.account_id IS NOT NULL THEN 'Cuentas con Préstamos'\n",
        "        ELSE 'Cuentas sin Préstamos'\n",
        "    END AS Tipo_Cuenta,\n",
        "    ROUND(AVG(ab.account_balance), 2) AS Saldo_Promedio\n",
        "FROM AccountBalances ab\n",
        "LEFT JOIN AccountsWithLoans awl ON ab.account_id = awl.account_id\n",
        "GROUP BY Tipo_Cuenta;"
      ],
      "execution_count": 44,
      "outputs": [
        {
          "output_type": "stream",
          "name": "stdout",
          "text": [
            " * sqlite:///data_berka.db\n",
            "Done.\n"
          ]
        },
        {
          "output_type": "execute_result",
          "data": {
            "text/plain": [
              "[('Cuentas con Préstamos', 50430.87), ('Cuentas sin Préstamos', 42628.98)]"
            ],
            "text/html": [
              "<table>\n",
              "    <thead>\n",
              "        <tr>\n",
              "            <th>Tipo_Cuenta</th>\n",
              "            <th>Saldo_Promedio</th>\n",
              "        </tr>\n",
              "    </thead>\n",
              "    <tbody>\n",
              "        <tr>\n",
              "            <td>Cuentas con Préstamos</td>\n",
              "            <td>50430.87</td>\n",
              "        </tr>\n",
              "        <tr>\n",
              "            <td>Cuentas sin Préstamos</td>\n",
              "            <td>42628.98</td>\n",
              "        </tr>\n",
              "    </tbody>\n",
              "</table>"
            ]
          },
          "metadata": {},
          "execution_count": 44
        }
      ]
    },
    {
      "cell_type": "markdown",
      "source": [
        "2.6) Identifique clientes que hayan realizado más de 10 transacciones en el año 1998 específico pero que no hayan solicitado un préstamo."
      ],
      "metadata": {
        "id": "LhmcGufwdNTv"
      }
    },
    {
      "cell_type": "code",
      "source": [
        "%%sql\n",
        "SELECT\n",
        "  c.client_id AS CLIENTE,\n",
        "  COUNT(t.trans_id) AS CANTIDAD_TRANSACCIONES\n",
        "FROM CLIENT c\n",
        "LEFT JOIN DISPOSITION d ON d.client_id = c.client_id\n",
        "LEFT JOIN ACCOUNT a ON a.account_id = d.account_id\n",
        "LEFT JOIN TRANS t ON t.account_id = a.account_id\n",
        "LEFT JOIN LOAN l ON l.account_id = a.account_id\n",
        "GROUP BY c.client_id\n",
        "HAVING CANTIDAD_TRANSACCIONES > 10 AND t.date LIKE '98%' AND l.loan_id IS NULL\n",
        "LIMIT 5;"
      ],
      "metadata": {
        "colab": {
          "base_uri": "https://localhost:8080/",
          "height": 75
        },
        "id": "gK39aWq7dOMu",
        "outputId": "27ac66c7-dbee-4a56-dba8-8ada3799e61a"
      },
      "execution_count": 58,
      "outputs": [
        {
          "output_type": "stream",
          "name": "stdout",
          "text": [
            " * sqlite:///data_berka.db\n",
            "Done.\n"
          ]
        },
        {
          "output_type": "execute_result",
          "data": {
            "text/plain": [
              "[]"
            ],
            "text/html": [
              "<table>\n",
              "    <thead>\n",
              "        <tr>\n",
              "            <th>CLIENTE</th>\n",
              "            <th>CANTIDAD_TRANSACCIONES</th>\n",
              "        </tr>\n",
              "    </thead>\n",
              "    <tbody>\n",
              "    </tbody>\n",
              "</table>"
            ]
          },
          "metadata": {},
          "execution_count": 58
        }
      ]
    }
  ]
}